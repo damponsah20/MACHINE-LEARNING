{
 "cells": [
  {
   "cell_type": "markdown",
   "id": "cdddd077-6baa-4517-8012-c07341d986a5",
   "metadata": {},
   "source": [
    "# METHODS EMPLOYED IN FEATURE SELECTTION AND THEIR CODES"
   ]
  },
  {
   "cell_type": "markdown",
   "id": "561883af-38d9-40f1-8b96-82bda75687e7",
   "metadata": {},
   "source": [
    "### 1.Filter Methods(using SelectKBest with chi-squared test)"
   ]
  },
  {
   "cell_type": "code",
   "execution_count": 1,
   "id": "f8d20326-9793-46d1-bcba-d8c140da88e8",
   "metadata": {},
   "outputs": [
    {
     "ename": "NameError",
     "evalue": "name 'X_train' is not defined",
     "output_type": "error",
     "traceback": [
      "\u001b[1;31m---------------------------------------------------------------------------\u001b[0m",
      "\u001b[1;31mNameError\u001b[0m                                 Traceback (most recent call last)",
      "Cell \u001b[1;32mIn[1], line 6\u001b[0m\n\u001b[0;32m      4\u001b[0m \u001b[38;5;66;03m# X_train and y_train are your training data and target variable\u001b[39;00m\n\u001b[0;32m      5\u001b[0m selector \u001b[38;5;241m=\u001b[39m SelectKBest(score_func\u001b[38;5;241m=\u001b[39mchi2, k\u001b[38;5;241m=\u001b[39m\u001b[38;5;241m5\u001b[39m)  \u001b[38;5;66;03m# Select top 5 features based on chi-squared test\u001b[39;00m\n\u001b[1;32m----> 6\u001b[0m X_new \u001b[38;5;241m=\u001b[39m selector\u001b[38;5;241m.\u001b[39mfit_transform(\u001b[43mX_train\u001b[49m, y_train)\n",
      "\u001b[1;31mNameError\u001b[0m: name 'X_train' is not defined"
     ]
    }
   ],
   "source": [
    "from sklearn.feature_selection import SelectKBest\n",
    "from sklearn.feature_selection import chi2\n",
    "\n",
    "# X_train and y_train are your training data and target variable\n",
    "selector = SelectKBest(score_func=chi2, k=5)  # Select top 5 features based on chi-squared test\n",
    "X_new = selector.fit_transform(X_train, y_train)\n"
   ]
  },
  {
   "cell_type": "markdown",
   "id": "f99b75e4-87bc-4511-956d-4efb9141d7a2",
   "metadata": {},
   "source": [
    "### 2.Wrapper Methods(using Recursive Feature Elimination with logistic regression)"
   ]
  },
  {
   "cell_type": "code",
   "execution_count": null,
   "id": "4d1b80cb-047e-446c-a4fa-8cc81e538360",
   "metadata": {},
   "outputs": [],
   "source": [
    "from sklearn.feature_selection import RFE\n",
    "from sklearn.linear_model import LogisticRegression\n",
    "\n",
    "# X_train and y_train are your training data and target variable\n",
    "estimator = LogisticRegression()\n",
    "selector = RFE(estimator, n_features_to_select=5)  # Select top 5 features using logistic regression\n",
    "X_new = selector.fit_transform(X_train, y_train)\n"
   ]
  },
  {
   "cell_type": "markdown",
   "id": "632b7601-67ce-4121-bf68-47a80b3599b4",
   "metadata": {},
   "source": [
    "### 3.Embedded Methods(using Lasso regression for feature selection)"
   ]
  },
  {
   "cell_type": "code",
   "execution_count": null,
   "id": "c4f1d85f-3bef-48d6-a156-3dbdae8142db",
   "metadata": {},
   "outputs": [],
   "source": [
    "from sklearn.linear_model import Lasso\n",
    "\n",
    "# X_train and y_train are your training data and target variable\n",
    "lasso = Lasso(alpha=0.1)  # Adjust alpha for feature selection strength\n",
    "lasso.fit(X_train, y_train)\n",
    "selected_features = X_train.columns[lasso.coef_ != 0]\n",
    "X_new = X_train[selected_features]\n"
   ]
  },
  {
   "cell_type": "markdown",
   "id": "e506e29b-4017-4ea1-88fb-4e078b02edca",
   "metadata": {},
   "source": [
    "### 4.Tree-based Feature Importance(using Random Forest for feature selection)"
   ]
  },
  {
   "cell_type": "code",
   "execution_count": null,
   "id": "095e24c8-e602-4f7f-96b8-3225cbf3ec03",
   "metadata": {},
   "outputs": [],
   "source": [
    "from sklearn.ensemble import RandomForestClassifier\n",
    "\n",
    "# X_train and y_train are your training data and target variable\n",
    "rf = RandomForestClassifier()\n",
    "rf.fit(X_train, y_train)\n",
    "importances = rf.feature_importances_\n",
    "selected_features = X_train.columns[importances > threshold]  # Adjust threshold for feature selection\n",
    "X_new = X_train[selected_features]\n"
   ]
  },
  {
   "cell_type": "markdown",
   "id": "fdd33e34-e37a-43e8-9d86-bc95b50b4e0b",
   "metadata": {},
   "source": [
    "### 5.Principal Component Analysis (PCA)"
   ]
  },
  {
   "cell_type": "code",
   "execution_count": null,
   "id": "311d3d9f-77ba-493b-9fbc-fc71d5939c54",
   "metadata": {},
   "outputs": [],
   "source": [
    "from sklearn.decomposition import PCA\n",
    "\n",
    "# X_train is your training data\n",
    "pca = PCA(n_components=5)  # Select top 5 principal components\n",
    "X_new = pca.fit_transform(X_train)\n"
   ]
  }
 ],
 "metadata": {
  "kernelspec": {
   "display_name": "Python 3 (ipykernel)",
   "language": "python",
   "name": "python3"
  },
  "language_info": {
   "codemirror_mode": {
    "name": "ipython",
    "version": 3
   },
   "file_extension": ".py",
   "mimetype": "text/x-python",
   "name": "python",
   "nbconvert_exporter": "python",
   "pygments_lexer": "ipython3",
   "version": "3.9.18"
  }
 },
 "nbformat": 4,
 "nbformat_minor": 5
}
